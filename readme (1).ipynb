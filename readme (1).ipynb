{
 "cells": [
  {
   "cell_type": "markdown",
   "metadata": {},
   "source": [
    "![](56.PNG)"
   ]
  },
  {
   "cell_type": "markdown",
   "metadata": {},
   "source": [
    "### This project is divided into two main parts. In the first part, we will conduct an exploratory analysis of the data on a dataset of our choice. We will use the Python Libraries for Data Science and Data Visualization to explore data set variants and understand data structures, anomalies, patterns and relationships. The analysis in this part should be structured,\n",
    "\n",
    "### In the second part, we will take the main findings from our exploration and pass them on to others through an explanatory analysis. To that end, we'll create a slide deck that uses polished illustrations to communicate our results. This part of the project should use extensively the first part of the project. Define one or two main paths in our exploration, choose relevant visualizations along that path, then refine them to create a story for our readers to understand what we found."
   ]
  },
  {
   "cell_type": "markdown",
   "metadata": {},
   "source": [
    "### Step 1: Choose The Dataset\n",
    "**First, we understand what is required in the project: The project talks about a set of data on a specific topic that is cleaned and analyzed and a set of questions, statistics and conclusions are issued regarding it.**\n",
    "\n",
    "**\"Download the Dataset Options file for full details & descriptions from the Resources Tab.**\n",
    "\n",
    "**Click on Resources in the leftmost panel of our classroom**\n",
    "\n",
    "**Click the File Name to start download\"** \n",
    "\n",
    "**The data in the camera  topic has been selected from the following site:**\n",
    "\n",
    "\n",
    "https://www.kaggle.com/crawford/1000-cameras-dataset\n",
    "\n",
    "**This data was collected by Some camera enthusiast and described 1,000 cameras based on 13 properties.**\n"
   ]
  },
  {
   "cell_type": "markdown",
   "metadata": {},
   "source": [
    "### The most important points and conclusions drawn from the data :\n"
   ]
  },
  {
   "cell_type": "markdown",
   "metadata": {},
   "source": [
    "### 1- There are 21 different companies.\n"
   ]
  },
  {
   "cell_type": "markdown",
   "metadata": {},
   "source": [
    "![](11.PNG)"
   ]
  },
  {
   "cell_type": "markdown",
   "metadata": {},
   "source": [
    "### 2- What is the relationship between the date of release and prices?"
   ]
  },
  {
   "cell_type": "markdown",
   "metadata": {},
   "source": [
    "![](33.PNG)"
   ]
  },
  {
   "cell_type": "markdown",
   "metadata": {},
   "source": [
    "**Here we see that with the passage of years the prices of cameras increase, in 1994 the prices were the lowest and continue to grow until 2007, which is the last year in our data set.\n",
    "Of course, this increase in prices is due to the development of cameras and the development of specifications at all levels.**"
   ]
  },
  {
   "cell_type": "markdown",
   "metadata": {},
   "source": [
    "### 3- The 10 most expensive models"
   ]
  },
  {
   "cell_type": "markdown",
   "metadata": {},
   "source": [
    "![](44.PNG)"
   ]
  },
  {
   "cell_type": "markdown",
   "metadata": {},
   "source": [
    "### 4- The professional specifications in the camera, the greater its weight."
   ]
  },
  {
   "cell_type": "markdown",
   "metadata": {},
   "source": [
    "![](6.PNG)"
   ]
  },
  {
   "cell_type": "markdown",
   "metadata": {},
   "source": [
    "**5- The most models that meet the professional specifications are:**\n",
    "\n",
    "\n",
    "**i- Canon EOS-1Ds Mark III - it is the most compatible.**\n",
    "\n",
    "**ii- Canon EOS-1Ds Mark II.**\n",
    "\n",
    "**iii- Kodak DCS 14n.**"
   ]
  },
  {
   "cell_type": "markdown",
   "metadata": {},
   "source": [
    "### 6- How has specifications evolved over the years? \n",
    "\n"
   ]
  },
  {
   "cell_type": "markdown",
   "metadata": {},
   "source": [
    "![](5.PNG)"
   ]
  },
  {
   "cell_type": "markdown",
   "metadata": {},
   "source": [
    "#### Max resolution: this property developed tremendously in 1995 and then fell back sharply after that, but since 1997 it has returned gradually and progressively.\n",
    "#### Low resolution: evolution was growing in them almost exponentially.\n",
    "#### Effective pixels: As happened with Max resolution, this property evolved tremendously in 1995 and then decreased, but it gradually developed again.\n",
    "#### Zoom wide (W): In 1996 it also developed terribly, but after that it decreased slightly and continues to fluctuate at an almost constant rate between high and low, evolving over the years, and perhaps this is because this property is not widely used.\n",
    "#### Zoom tele (T): The evolution in it was growing in an almost ascending order.\n",
    "#### Normal focus range: As is the case with Zoom wide, it was highest in 1996 and then fell back slightly and then oscillated relatively steadily."
   ]
  },
  {
   "cell_type": "markdown",
   "metadata": {},
   "source": [
    "## Conclusions:\n",
    "\n",
    "#### We explained some of the camera-related specifications, sorted the most popular companies in the dataset, and classified the models in terms of prices, professional specifications, weight relationship to those specifications, and lastly how these specifications have evolved over the years."
   ]
  },
  {
   "cell_type": "markdown",
   "metadata": {},
   "source": [
    "## Resources :\n",
    "\n",
    "https://www.kaggle.com/crawford/1000-cameras-dataset \n",
    "\n",
    "\n",
    "https://en.wikipedia.org/wiki/Camera\n",
    "\n",
    "https://github.com/khlood-almohammadi/Project-Data-Visualization/blob/main/exploration_template.ipynb\n"
   ]
  }
 ],
 "metadata": {
  "kernelspec": {
   "display_name": "Python 3",
   "language": "python",
   "name": "python3"
  },
  "language_info": {
   "codemirror_mode": {
    "name": "ipython",
    "version": 3
   },
   "file_extension": ".py",
   "mimetype": "text/x-python",
   "name": "python",
   "nbconvert_exporter": "python",
   "pygments_lexer": "ipython3",
   "version": "3.8.3"
  }
 },
 "nbformat": 4,
 "nbformat_minor": 4
}
